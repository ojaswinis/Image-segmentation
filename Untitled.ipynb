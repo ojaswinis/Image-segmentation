{
 "cells": [
  {
   "cell_type": "code",
   "execution_count": null,
   "id": "83847315",
   "metadata": {},
   "outputs": [
    {
     "name": "stdout",
     "output_type": "stream",
     "text": [
      "hello\n",
      "above def\n",
      " * Serving Flask app \"__main__\" (lazy loading)\n",
      " * Environment: production\n",
      "\u001b[31m   WARNING: This is a development server. Do not use it in a production deployment.\u001b[0m\n",
      "\u001b[2m   Use a production WSGI server instead.\u001b[0m\n",
      " * Debug mode: off\n"
     ]
    },
    {
     "name": "stderr",
     "output_type": "stream",
     "text": [
      " * Running on http://127.0.0.1:5000/ (Press CTRL+C to quit)\n",
      "127.0.0.1 - - [19/Apr/2023 19:10:20] \"GET / HTTP/1.1\" 200 -\n",
      "127.0.0.1 - - [19/Apr/2023 19:10:20] \"GET /mystyle.css HTTP/1.1\" 404 -\n",
      "127.0.0.1 - - [19/Apr/2023 19:10:20] \"GET /gotop.js HTTP/1.1\" 404 -\n",
      "127.0.0.1 - - [19/Apr/2023 19:10:20] \"GET /concept.png HTTP/1.1\" 404 -\n",
      "127.0.0.1 - - [19/Apr/2023 19:10:20] \"GET /reading-book.png HTTP/1.1\" 404 -\n",
      "127.0.0.1 - - [19/Apr/2023 19:10:20] \"GET /team.png HTTP/1.1\" 404 -\n"
     ]
    },
    {
     "name": "stdout",
     "output_type": "stream",
     "text": [
      "input_image_path original_images/original_image.jpg\n",
      "static\\segmented_images\\segmented_image.jpg\n"
     ]
    },
    {
     "name": "stderr",
     "output_type": "stream",
     "text": [
      "127.0.0.1 - - [19/Apr/2023 19:11:11] \"POST / HTTP/1.1\" 200 -\n"
     ]
    }
   ],
   "source": [
    "from flask import Flask, request, render_template, url_for\n",
    "import matplotlib.pyplot as plt\n",
    "import numpy as np\n",
    "import cv2\n",
    "import os\n",
    "import time\n",
    "from PIL import Image as PIL_Image\n",
    "\n",
    "print(\"hello\")\n",
    "app = Flask(__name__)\n",
    "\n",
    "# Define a function to perform k-means clustering on an input image\n",
    "def segment_image(input_image_path, K=4):\n",
    "    # Load the input image\n",
    "    sample_image = cv2.imread(input_image_path)\n",
    "    img = cv2.cvtColor(sample_image,cv2.COLOR_BGR2RGB)\n",
    "\n",
    "    # Perform k-means clustering on the image\n",
    "    twoDimage = img.reshape((-1,3))\n",
    "    twoDimage = np.float32(twoDimage)\n",
    "    criteria = (cv2.TERM_CRITERIA_EPS + cv2.TERM_CRITERIA_MAX_ITER, 10, 1.0)\n",
    "    attempts=10\n",
    "    ret,label,center=cv2.kmeans(twoDimage,K,None,criteria,attempts,cv2.KMEANS_PP_CENTERS)\n",
    "    center = np.uint8(center)\n",
    "    res = center[label.flatten()]\n",
    "    result_image = res.reshape((img.shape))\n",
    "\n",
    "    # Save the segmented image to a file\n",
    "    if not os.path.exists(\"static/segmented_images\"):\n",
    "        os.makedirs(\"static/segmented_images\")\n",
    "    cv2.imwrite(\"static/segmented_images/segmented_image.jpg\", result_image)\n",
    "    print(os.path.join(\"static\", \"segmented_images\", \"segmented_image.jpg\"))\n",
    "    # Return the path to the segmented image file\n",
    "    return os.path.join(\"static\", \"segmented_images\", \"segmented_image.jpg\")\n",
    "\n",
    "\n",
    "    # Return the path to the segmented image file\n",
    "    return segmented_image_path\n",
    "# Define a Flask route to serve the webpage\n",
    "print(\"above def\")\n",
    "@app.route('/', methods=['GET', 'POST'])\n",
    "def index():\n",
    "    if request.method == 'POST':\n",
    "        # Get the uploaded image file\n",
    "        file = request.files['image']\n",
    "\n",
    "        # Save the uploaded image file to disk\n",
    "        input_image_path = 'original_images/original_image.jpg'\n",
    "        file.save(input_image_path)\n",
    "\n",
    "        # Segment the uploaded image file\n",
    "        print(\"input_image_path\",input_image_path)\n",
    "        segmented_image_path = segment_image(input_image_path)\n",
    "        time.sleep(2)\n",
    "\n",
    "        # Render the result page with the segmented image\n",
    "        return render_template('result.html', segmented_image=segmented_image_path)\n",
    "\n",
    "    # Render the index page\n",
    "    return render_template('index.html')\n",
    "\n",
    "if __name__ == '__main__':\n",
    "    app.run()\n"
   ]
  }
 ],
 "metadata": {
  "kernelspec": {
   "display_name": "Python 3 (ipykernel)",
   "language": "python",
   "name": "python3"
  },
  "language_info": {
   "codemirror_mode": {
    "name": "ipython",
    "version": 3
   },
   "file_extension": ".py",
   "mimetype": "text/x-python",
   "name": "python",
   "nbconvert_exporter": "python",
   "pygments_lexer": "ipython3",
   "version": "3.9.13"
  }
 },
 "nbformat": 4,
 "nbformat_minor": 5
}
